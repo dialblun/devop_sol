{
 "cells": [
  {
   "cell_type": "code",
   "execution_count": 55,
   "metadata": {
    "collapsed": true,
    "deletable": true,
    "editable": true
   },
   "outputs": [],
   "source": [
    "import matplotlib.pyplot as plt\n",
    "import pandas as pd\n",
    "import random\n",
    "%matplotlib inline"
   ]
  },
  {
   "cell_type": "markdown",
   "metadata": {},
   "source": [
    "<b>Часть вторая: работа с данными</b>"
   ]
  },
  {
   "cell_type": "code",
   "execution_count": 53,
   "metadata": {
    "collapsed": false
   },
   "outputs": [
    {
     "data": {
      "image/png": "[encoded data removed]",
      "text/plain": [
       "<matplotlib.figure.Figure at 0x7faaff81fef0>"
      ]
     },
     "metadata": {},
     "output_type": "display_data"
    }
   ],
   "source": [
    "data=pd.read_csv('train.csv')\n",
    "plt.figure(figsize=(10,10))\n",
    "n, bins, patches=plt.hist(data['Age'].dropna(), bins=80, histtype='bar')\n",
    "plt.xlabel('Age')\n",
    "plt.title('Passanger ages')\n",
    "plt.show()"
   ]
  },
  {
   "cell_type": "markdown",
   "metadata": {},
   "source": [
    "<b>Часть третья: программирование</b>"
   ]
  },
  {
   "cell_type": "code",
   "execution_count": 84,
   "metadata": {
    "collapsed": false,
    "deletable": true,
    "editable": true
   },
   "outputs": [],
   "source": [
    "def sort_list(mass,reverse=False):\n",
    "    def quick(arr):\n",
    "        if len(arr)<=1:\n",
    "            return arr\n",
    "        if len(arr)==2 and arr[0]<arr[1]: \n",
    "            return arr\n",
    "        else:\n",
    "            left,right=[],[]\n",
    "            pivot=0\n",
    "            for i in arr [pivot+1::]: \n",
    "                if i <= arr[pivot]:\n",
    "                        left.append(i)\n",
    "                else:\n",
    "                    right.append(i)\n",
    "            return quick(left)+[arr[pivot]]+quick(right)\n",
    "    if reverse:\n",
    "        mass=[i for i in reversed(quick(mass))]\n",
    "    else:\n",
    "        mass=quick(mass)\n",
    "    return mass"
   ]
  },
  {
   "cell_type": "code",
   "execution_count": 88,
   "metadata": {
    "collapsed": false,
    "deletable": true,
    "editable": true
   },
   "outputs": [
    {
     "name": "stdout",
     "output_type": "stream",
     "text": [
      "Test case #1: my sorted list equals builtin sorted\n",
      " True\n",
      "Test case #2: check reverse sorting \n",
      " True\n"
     ]
    }
   ],
   "source": [
    "#checks\n",
    "rnd_list=[random.randint(-1000,1000) for i in range(1000)]\n",
    "my_sort=sort_list(rnd_list)\n",
    "builtin_sort=sorted(rnd_list)\n",
    "my_sort_reverse=sort_list(rnd_list,reverse=True)\n",
    "builtin_sort_reverse=sorted(rnd_list, reverse=True)\n",
    "print(\"Test case #1: my sorted list equals builtin sorted\\n\",my_sort==builtin_sort)\n",
    "print(\"Test case #2: check reverse sorting \\n\",my_sort_reverse==builtin_sort_reverse)"
   ]
  },
  {
   "cell_type": "code",
   "execution_count": null,
   "metadata": {
    "collapsed": true,
    "deletable": true,
    "editable": true
   },
   "outputs": [],
   "source": []
  }
 ],
 "metadata": {
  "kernelspec": {
   "display_name": "Python 3",
   "language": "python",
   "name": "python3"
  },
  "language_info": {
   "codemirror_mode": {
    "name": "ipython",
    "version": 3
   },
   "file_extension": ".py",
   "mimetype": "text/x-python",
   "name": "python",
   "nbconvert_exporter": "python",
   "pygments_lexer": "ipython3",
   "version": "3.6.0"
  }
 },
 "nbformat": 4,
 "nbformat_minor": 2
}
